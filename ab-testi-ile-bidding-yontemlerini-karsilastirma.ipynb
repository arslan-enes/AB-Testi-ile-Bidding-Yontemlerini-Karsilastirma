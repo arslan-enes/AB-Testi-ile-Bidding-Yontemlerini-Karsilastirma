{
 "cells": [
  {
   "cell_type": "markdown",
   "id": "0696aee2",
   "metadata": {
    "_cell_guid": "b1076dfc-b9ad-4769-8c92-a6c4dae69d19",
    "_uuid": "8f2839f25d086af736a60e9eeb907d3b93b6e0e5",
    "papermill": {
     "duration": 0.008136,
     "end_time": "2022-07-18T10:32:55.487690",
     "exception": false,
     "start_time": "2022-07-18T10:32:55.479554",
     "status": "completed"
    },
    "tags": []
   },
   "source": [
    "# İş Problemi\n",
    "\n"
   ]
  },
  {
   "cell_type": "markdown",
   "id": "3ef74ed5",
   "metadata": {
    "papermill": {
     "duration": 0.006362,
     "end_time": "2022-07-18T10:32:55.500750",
     "exception": false,
     "start_time": "2022-07-18T10:32:55.494388",
     "status": "completed"
    },
    "tags": []
   },
   "source": [
    "<p>\n",
    "    Facebook kısa süre önce mevcut \"maximum bidding\" adı verilen \n",
    "teklif verme türüne alternatif olarak yeni bir teklif türü olan \n",
    "\"average bidding\"’i tanıttı.<p/>\n",
    "<p>\n",
    "    Müşterilerimizden biri olan bombabomba.com, bu yeni özelliği test \n",
    "etmeye karar verdi ve average bidding'in maximum bidding'den\n",
    "daha fazla dönüşüm getirip getirmediğini anlamak için bir A/B \n",
    "testi yapmak istiyor.<p/>\n",
    "\n",
    "<p>\n",
    "    A/B testi 1 aydır devam ediyor ve bombabomba.com şimdi sizden \n",
    "bu A/B testinin sonuçlarını analiz etmenizi bekliyor.\n",
    "Bombabomba.com için nihai başarı ölçütü Purchase'dır. Bu \n",
    "nedenle, istatistiksel testler için Purchase metriğine \n",
    "odaklanılmalıdır.<p/>\n"
   ]
  },
  {
   "cell_type": "markdown",
   "id": "d129b760",
   "metadata": {
    "papermill": {
     "duration": 0.0072,
     "end_time": "2022-07-18T10:32:55.514662",
     "exception": false,
     "start_time": "2022-07-18T10:32:55.507462",
     "status": "completed"
    },
    "tags": []
   },
   "source": [
    "# Veri Seti Hikayesi"
   ]
  },
  {
   "cell_type": "markdown",
   "id": "47353cec",
   "metadata": {
    "papermill": {
     "duration": 0.006697,
     "end_time": "2022-07-18T10:32:55.528444",
     "exception": false,
     "start_time": "2022-07-18T10:32:55.521747",
     "status": "completed"
    },
    "tags": []
   },
   "source": [
    "* Impression Reklam görüntüleme sayısı\n",
    "* Click Görüntülenen reklama tıklama sayısı\n",
    "* Purchase Tıklanan reklamlar sonrası satın alınan ürün sayısı\n",
    "* Earning Satın alınan ürünler sonrası elde edilen kazanç"
   ]
  },
  {
   "cell_type": "markdown",
   "id": "95601501",
   "metadata": {
    "papermill": {
     "duration": 0.006283,
     "end_time": "2022-07-18T10:32:55.542112",
     "exception": false,
     "start_time": "2022-07-18T10:32:55.535829",
     "status": "completed"
    },
    "tags": []
   },
   "source": [
    "# Gerekli kütüphaneleri yükleme"
   ]
  },
  {
   "cell_type": "code",
   "execution_count": 1,
   "id": "162b8046",
   "metadata": {
    "execution": {
     "iopub.execute_input": "2022-07-18T10:32:55.558735Z",
     "iopub.status.busy": "2022-07-18T10:32:55.557642Z",
     "iopub.status.idle": "2022-07-18T10:33:11.409831Z",
     "shell.execute_reply": "2022-07-18T10:33:11.408525Z"
    },
    "papermill": {
     "duration": 15.864098,
     "end_time": "2022-07-18T10:33:11.413081",
     "exception": false,
     "start_time": "2022-07-18T10:32:55.548983",
     "status": "completed"
    },
    "tags": []
   },
   "outputs": [
    {
     "name": "stdout",
     "output_type": "stream",
     "text": [
      "Collecting openpyxl\r\n",
      "  Downloading openpyxl-3.0.10-py2.py3-none-any.whl (242 kB)\r\n",
      "\u001b[2K     \u001b[90m━━━━━━━━━━━━━━━━━━━━━━━━━━━━━━━━━━━━━━━\u001b[0m \u001b[32m242.1/242.1 kB\u001b[0m \u001b[31m1.6 MB/s\u001b[0m eta \u001b[36m0:00:00\u001b[0m\r\n",
      "\u001b[?25hCollecting et-xmlfile\r\n",
      "  Downloading et_xmlfile-1.1.0-py3-none-any.whl (4.7 kB)\r\n",
      "Installing collected packages: et-xmlfile, openpyxl\r\n",
      "Successfully installed et-xmlfile-1.1.0 openpyxl-3.0.10\r\n",
      "\u001b[33mWARNING: Running pip as the 'root' user can result in broken permissions and conflicting behaviour with the system package manager. It is recommended to use a virtual environment instead: https://pip.pypa.io/warnings/venv\u001b[0m\u001b[33m\r\n",
      "\u001b[0m"
     ]
    }
   ],
   "source": [
    "!pip install openpyxl\n",
    "import pandas as pd\n",
    "import seaborn as sns\n",
    "import matplotlib.pyplot as plt\n",
    "from scipy.stats import ttest_1samp, shapiro, levene, ttest_ind, mannwhitneyu, \\\n",
    "    pearsonr, spearmanr, kendalltau, f_oneway, kruskal\n",
    "\n",
    "pd.set_option('display.max_columns', None)\n",
    "pd.set_option('display.max_rows', 10)\n",
    "pd.set_option('display.float_format', lambda x: '%.5f' % x)"
   ]
  },
  {
   "cell_type": "markdown",
   "id": "9c9c7d96",
   "metadata": {
    "papermill": {
     "duration": 0.006848,
     "end_time": "2022-07-18T10:33:11.427745",
     "exception": false,
     "start_time": "2022-07-18T10:33:11.420897",
     "status": "completed"
    },
    "tags": []
   },
   "source": [
    "# Veriyi Hazırlama ve Analiz Etme"
   ]
  },
  {
   "cell_type": "code",
   "execution_count": 2,
   "id": "a2b7442b",
   "metadata": {
    "execution": {
     "iopub.execute_input": "2022-07-18T10:33:11.444952Z",
     "iopub.status.busy": "2022-07-18T10:33:11.444477Z",
     "iopub.status.idle": "2022-07-18T10:33:11.742173Z",
     "shell.execute_reply": "2022-07-18T10:33:11.740937Z"
    },
    "papermill": {
     "duration": 0.30947,
     "end_time": "2022-07-18T10:33:11.744767",
     "exception": false,
     "start_time": "2022-07-18T10:33:11.435297",
     "status": "completed"
    },
    "tags": []
   },
   "outputs": [],
   "source": [
    "control_group = pd.read_excel('../input/abtest/ab_testing.xlsx',sheet_name='Control Group')\n",
    "test_group = pd.read_excel('../input/abtest/ab_testing.xlsx',sheet_name='Test Group')"
   ]
  },
  {
   "cell_type": "code",
   "execution_count": 3,
   "id": "4a4493a5",
   "metadata": {
    "execution": {
     "iopub.execute_input": "2022-07-18T10:33:11.762299Z",
     "iopub.status.busy": "2022-07-18T10:33:11.761294Z",
     "iopub.status.idle": "2022-07-18T10:33:11.781430Z",
     "shell.execute_reply": "2022-07-18T10:33:11.780262Z"
    },
    "papermill": {
     "duration": 0.031667,
     "end_time": "2022-07-18T10:33:11.783811",
     "exception": false,
     "start_time": "2022-07-18T10:33:11.752144",
     "status": "completed"
    },
    "tags": []
   },
   "outputs": [
    {
     "data": {
      "text/html": [
       "<div>\n",
       "<style scoped>\n",
       "    .dataframe tbody tr th:only-of-type {\n",
       "        vertical-align: middle;\n",
       "    }\n",
       "\n",
       "    .dataframe tbody tr th {\n",
       "        vertical-align: top;\n",
       "    }\n",
       "\n",
       "    .dataframe thead th {\n",
       "        text-align: right;\n",
       "    }\n",
       "</style>\n",
       "<table border=\"1\" class=\"dataframe\">\n",
       "  <thead>\n",
       "    <tr style=\"text-align: right;\">\n",
       "      <th></th>\n",
       "      <th>Impression</th>\n",
       "      <th>Click</th>\n",
       "      <th>Purchase</th>\n",
       "      <th>Earning</th>\n",
       "    </tr>\n",
       "  </thead>\n",
       "  <tbody>\n",
       "    <tr>\n",
       "      <th>0</th>\n",
       "      <td>82529.45927</td>\n",
       "      <td>6090.07732</td>\n",
       "      <td>665.21125</td>\n",
       "      <td>2311.27714</td>\n",
       "    </tr>\n",
       "    <tr>\n",
       "      <th>1</th>\n",
       "      <td>98050.45193</td>\n",
       "      <td>3382.86179</td>\n",
       "      <td>315.08489</td>\n",
       "      <td>1742.80686</td>\n",
       "    </tr>\n",
       "    <tr>\n",
       "      <th>2</th>\n",
       "      <td>82696.02355</td>\n",
       "      <td>4167.96575</td>\n",
       "      <td>458.08374</td>\n",
       "      <td>1797.82745</td>\n",
       "    </tr>\n",
       "    <tr>\n",
       "      <th>3</th>\n",
       "      <td>109914.40040</td>\n",
       "      <td>4910.88224</td>\n",
       "      <td>487.09077</td>\n",
       "      <td>1696.22918</td>\n",
       "    </tr>\n",
       "    <tr>\n",
       "      <th>4</th>\n",
       "      <td>108457.76263</td>\n",
       "      <td>5987.65581</td>\n",
       "      <td>441.03405</td>\n",
       "      <td>1543.72018</td>\n",
       "    </tr>\n",
       "  </tbody>\n",
       "</table>\n",
       "</div>"
      ],
      "text/plain": [
       "    Impression      Click  Purchase    Earning\n",
       "0  82529.45927 6090.07732 665.21125 2311.27714\n",
       "1  98050.45193 3382.86179 315.08489 1742.80686\n",
       "2  82696.02355 4167.96575 458.08374 1797.82745\n",
       "3 109914.40040 4910.88224 487.09077 1696.22918\n",
       "4 108457.76263 5987.65581 441.03405 1543.72018"
      ]
     },
     "execution_count": 3,
     "metadata": {},
     "output_type": "execute_result"
    }
   ],
   "source": [
    "control_group.head()"
   ]
  },
  {
   "cell_type": "code",
   "execution_count": 4,
   "id": "f772e086",
   "metadata": {
    "execution": {
     "iopub.execute_input": "2022-07-18T10:33:11.800554Z",
     "iopub.status.busy": "2022-07-18T10:33:11.800100Z",
     "iopub.status.idle": "2022-07-18T10:33:11.840987Z",
     "shell.execute_reply": "2022-07-18T10:33:11.839815Z"
    },
    "papermill": {
     "duration": 0.052491,
     "end_time": "2022-07-18T10:33:11.843854",
     "exception": false,
     "start_time": "2022-07-18T10:33:11.791363",
     "status": "completed"
    },
    "tags": []
   },
   "outputs": [],
   "source": [
    "test_describe = test_group.describe()\n",
    "control_describe = control_group.describe()\n",
    "\n",
    "test_describe['hue']='Test'\n",
    "control_describe['hue']='Control'"
   ]
  },
  {
   "cell_type": "code",
   "execution_count": 5,
   "id": "98a8063d",
   "metadata": {
    "execution": {
     "iopub.execute_input": "2022-07-18T10:33:11.861680Z",
     "iopub.status.busy": "2022-07-18T10:33:11.860599Z",
     "iopub.status.idle": "2022-07-18T10:33:11.875788Z",
     "shell.execute_reply": "2022-07-18T10:33:11.874428Z"
    },
    "papermill": {
     "duration": 0.026644,
     "end_time": "2022-07-18T10:33:11.878253",
     "exception": false,
     "start_time": "2022-07-18T10:33:11.851609",
     "status": "completed"
    },
    "tags": []
   },
   "outputs": [
    {
     "data": {
      "text/html": [
       "<div>\n",
       "<style scoped>\n",
       "    .dataframe tbody tr th:only-of-type {\n",
       "        vertical-align: middle;\n",
       "    }\n",
       "\n",
       "    .dataframe tbody tr th {\n",
       "        vertical-align: top;\n",
       "    }\n",
       "\n",
       "    .dataframe thead th {\n",
       "        text-align: right;\n",
       "    }\n",
       "</style>\n",
       "<table border=\"1\" class=\"dataframe\">\n",
       "  <thead>\n",
       "    <tr style=\"text-align: right;\">\n",
       "      <th></th>\n",
       "      <th>Impression</th>\n",
       "      <th>Click</th>\n",
       "      <th>Purchase</th>\n",
       "      <th>Earning</th>\n",
       "      <th>hue</th>\n",
       "    </tr>\n",
       "  </thead>\n",
       "  <tbody>\n",
       "    <tr>\n",
       "      <th>0</th>\n",
       "      <td>40.00000</td>\n",
       "      <td>40.00000</td>\n",
       "      <td>40.00000</td>\n",
       "      <td>40.00000</td>\n",
       "      <td>Test</td>\n",
       "    </tr>\n",
       "    <tr>\n",
       "      <th>1</th>\n",
       "      <td>120512.41176</td>\n",
       "      <td>3967.54976</td>\n",
       "      <td>582.10610</td>\n",
       "      <td>2514.89073</td>\n",
       "      <td>Test</td>\n",
       "    </tr>\n",
       "    <tr>\n",
       "      <th>2</th>\n",
       "      <td>18807.44871</td>\n",
       "      <td>923.09507</td>\n",
       "      <td>161.15251</td>\n",
       "      <td>282.73085</td>\n",
       "      <td>Test</td>\n",
       "    </tr>\n",
       "    <tr>\n",
       "      <th>3</th>\n",
       "      <td>79033.83492</td>\n",
       "      <td>1836.62986</td>\n",
       "      <td>311.62952</td>\n",
       "      <td>1939.61124</td>\n",
       "      <td>Test</td>\n",
       "    </tr>\n",
       "    <tr>\n",
       "      <th>4</th>\n",
       "      <td>112691.97077</td>\n",
       "      <td>3376.81902</td>\n",
       "      <td>444.62683</td>\n",
       "      <td>2280.53743</td>\n",
       "      <td>Test</td>\n",
       "    </tr>\n",
       "  </tbody>\n",
       "</table>\n",
       "</div>"
      ],
      "text/plain": [
       "    Impression      Click  Purchase    Earning   hue\n",
       "0     40.00000   40.00000  40.00000   40.00000  Test\n",
       "1 120512.41176 3967.54976 582.10610 2514.89073  Test\n",
       "2  18807.44871  923.09507 161.15251  282.73085  Test\n",
       "3  79033.83492 1836.62986 311.62952 1939.61124  Test\n",
       "4 112691.97077 3376.81902 444.62683 2280.53743  Test"
      ]
     },
     "execution_count": 5,
     "metadata": {},
     "output_type": "execute_result"
    }
   ],
   "source": [
    "total_describe = pd.concat([test_describe,control_describe])\n",
    "describe_index = total_describe.index\n",
    "total_describe.index = range(0,16)\n",
    "total_describe.head()"
   ]
  },
  {
   "cell_type": "code",
   "execution_count": 6,
   "id": "8d6d6d70",
   "metadata": {
    "execution": {
     "iopub.execute_input": "2022-07-18T10:33:11.895431Z",
     "iopub.status.busy": "2022-07-18T10:33:11.895042Z",
     "iopub.status.idle": "2022-07-18T10:33:12.887883Z",
     "shell.execute_reply": "2022-07-18T10:33:12.886563Z"
    },
    "papermill": {
     "duration": 1.004935,
     "end_time": "2022-07-18T10:33:12.890829",
     "exception": false,
     "start_time": "2022-07-18T10:33:11.885894",
     "status": "completed"
    },
    "tags": []
   },
   "outputs": [
    {
     "data": {
      "image/png": "[encoded data removed]",
      "text/plain": [
       "<Figure size 864x576 with 4 Axes>"
      ]
     },
     "metadata": {
      "needs_background": "light"
     },
     "output_type": "display_data"
    }
   ],
   "source": [
    "plt.rcParams[\"figure.figsize\"] = (12,8)\n",
    "\n",
    "for x,y in zip(total_describe.columns,range(1,5)):\n",
    "    plt.subplot(2,2,y)\n",
    "    plt.title(x)\n",
    "    sns.barplot(x=describe_index,y=total_describe[x].values,data=total_describe,hue='hue')\n",
    "    \n",
    "plt.show()"
   ]
  },
  {
   "cell_type": "markdown",
   "id": "e4e163a0",
   "metadata": {
    "papermill": {
     "duration": 0.007978,
     "end_time": "2022-07-18T10:33:12.907140",
     "exception": false,
     "start_time": "2022-07-18T10:33:12.899162",
     "status": "completed"
    },
    "tags": []
   },
   "source": [
    "Yeni özellikle birlikte görüntülenme, satın alma ve kazanç sayıları artmışken tıklanma sayısının azaldığı gözlemlenebilir."
   ]
  },
  {
   "cell_type": "code",
   "execution_count": 7,
   "id": "adb62dca",
   "metadata": {
    "execution": {
     "iopub.execute_input": "2022-07-18T10:33:12.926094Z",
     "iopub.status.busy": "2022-07-18T10:33:12.925391Z",
     "iopub.status.idle": "2022-07-18T10:33:12.942208Z",
     "shell.execute_reply": "2022-07-18T10:33:12.941031Z"
    },
    "papermill": {
     "duration": 0.029234,
     "end_time": "2022-07-18T10:33:12.944574",
     "exception": false,
     "start_time": "2022-07-18T10:33:12.915340",
     "status": "completed"
    },
    "tags": []
   },
   "outputs": [
    {
     "data": {
      "text/html": [
       "<div>\n",
       "<style scoped>\n",
       "    .dataframe tbody tr th:only-of-type {\n",
       "        vertical-align: middle;\n",
       "    }\n",
       "\n",
       "    .dataframe tbody tr th {\n",
       "        vertical-align: top;\n",
       "    }\n",
       "\n",
       "    .dataframe thead th {\n",
       "        text-align: right;\n",
       "    }\n",
       "</style>\n",
       "<table border=\"1\" class=\"dataframe\">\n",
       "  <thead>\n",
       "    <tr style=\"text-align: right;\">\n",
       "      <th></th>\n",
       "      <th>index</th>\n",
       "      <th>Impression</th>\n",
       "      <th>Click</th>\n",
       "      <th>Purchase</th>\n",
       "      <th>Earning</th>\n",
       "    </tr>\n",
       "  </thead>\n",
       "  <tbody>\n",
       "    <tr>\n",
       "      <th>0</th>\n",
       "      <td>0</td>\n",
       "      <td>120103.50380</td>\n",
       "      <td>3216.54796</td>\n",
       "      <td>702.16035</td>\n",
       "      <td>1939.61124</td>\n",
       "    </tr>\n",
       "    <tr>\n",
       "      <th>1</th>\n",
       "      <td>1</td>\n",
       "      <td>134775.94336</td>\n",
       "      <td>3635.08242</td>\n",
       "      <td>834.05429</td>\n",
       "      <td>2929.40582</td>\n",
       "    </tr>\n",
       "    <tr>\n",
       "      <th>2</th>\n",
       "      <td>2</td>\n",
       "      <td>107806.62079</td>\n",
       "      <td>3057.14356</td>\n",
       "      <td>422.93426</td>\n",
       "      <td>2526.24488</td>\n",
       "    </tr>\n",
       "    <tr>\n",
       "      <th>3</th>\n",
       "      <td>3</td>\n",
       "      <td>116445.27553</td>\n",
       "      <td>4650.47391</td>\n",
       "      <td>429.03353</td>\n",
       "      <td>2281.42857</td>\n",
       "    </tr>\n",
       "    <tr>\n",
       "      <th>4</th>\n",
       "      <td>4</td>\n",
       "      <td>145082.51684</td>\n",
       "      <td>5201.38772</td>\n",
       "      <td>749.86044</td>\n",
       "      <td>2781.69752</td>\n",
       "    </tr>\n",
       "    <tr>\n",
       "      <th>...</th>\n",
       "      <td>...</td>\n",
       "      <td>...</td>\n",
       "      <td>...</td>\n",
       "      <td>...</td>\n",
       "      <td>...</td>\n",
       "    </tr>\n",
       "    <tr>\n",
       "      <th>75</th>\n",
       "      <td>35</td>\n",
       "      <td>132064.21900</td>\n",
       "      <td>3747.15754</td>\n",
       "      <td>551.07241</td>\n",
       "      <td>2256.97559</td>\n",
       "    </tr>\n",
       "    <tr>\n",
       "      <th>76</th>\n",
       "      <td>36</td>\n",
       "      <td>86409.94180</td>\n",
       "      <td>4608.25621</td>\n",
       "      <td>345.04603</td>\n",
       "      <td>1781.35769</td>\n",
       "    </tr>\n",
       "    <tr>\n",
       "      <th>77</th>\n",
       "      <td>37</td>\n",
       "      <td>123678.93423</td>\n",
       "      <td>3649.07379</td>\n",
       "      <td>476.16813</td>\n",
       "      <td>2187.72122</td>\n",
       "    </tr>\n",
       "    <tr>\n",
       "      <th>78</th>\n",
       "      <td>38</td>\n",
       "      <td>101997.49410</td>\n",
       "      <td>4736.35337</td>\n",
       "      <td>474.61354</td>\n",
       "      <td>2254.56383</td>\n",
       "    </tr>\n",
       "    <tr>\n",
       "      <th>79</th>\n",
       "      <td>39</td>\n",
       "      <td>121085.88122</td>\n",
       "      <td>4285.17861</td>\n",
       "      <td>590.40602</td>\n",
       "      <td>1289.30895</td>\n",
       "    </tr>\n",
       "  </tbody>\n",
       "</table>\n",
       "<p>80 rows × 5 columns</p>\n",
       "</div>"
      ],
      "text/plain": [
       "    index   Impression      Click  Purchase    Earning\n",
       "0       0 120103.50380 3216.54796 702.16035 1939.61124\n",
       "1       1 134775.94336 3635.08242 834.05429 2929.40582\n",
       "2       2 107806.62079 3057.14356 422.93426 2526.24488\n",
       "3       3 116445.27553 4650.47391 429.03353 2281.42857\n",
       "4       4 145082.51684 5201.38772 749.86044 2781.69752\n",
       "..    ...          ...        ...       ...        ...\n",
       "75     35 132064.21900 3747.15754 551.07241 2256.97559\n",
       "76     36  86409.94180 4608.25621 345.04603 1781.35769\n",
       "77     37 123678.93423 3649.07379 476.16813 2187.72122\n",
       "78     38 101997.49410 4736.35337 474.61354 2254.56383\n",
       "79     39 121085.88122 4285.17861 590.40602 1289.30895\n",
       "\n",
       "[80 rows x 5 columns]"
      ]
     },
     "execution_count": 7,
     "metadata": {},
     "output_type": "execute_result"
    }
   ],
   "source": [
    "total_group = pd.concat([test_group,control_group]).reset_index()\n",
    "total_group"
   ]
  },
  {
   "cell_type": "markdown",
   "id": "5b49233b",
   "metadata": {
    "papermill": {
     "duration": 0.009442,
     "end_time": "2022-07-18T10:33:12.962903",
     "exception": false,
     "start_time": "2022-07-18T10:33:12.953461",
     "status": "completed"
    },
    "tags": []
   },
   "source": [
    "# Hipotezi tanımlama"
   ]
  },
  {
   "cell_type": "code",
   "execution_count": 8,
   "id": "66f742ab",
   "metadata": {
    "execution": {
     "iopub.execute_input": "2022-07-18T10:33:12.983717Z",
     "iopub.status.busy": "2022-07-18T10:33:12.983038Z",
     "iopub.status.idle": "2022-07-18T10:33:12.990328Z",
     "shell.execute_reply": "2022-07-18T10:33:12.988849Z"
    },
    "papermill": {
     "duration": 0.020135,
     "end_time": "2022-07-18T10:33:12.993006",
     "exception": false,
     "start_time": "2022-07-18T10:33:12.972871",
     "status": "completed"
    },
    "tags": []
   },
   "outputs": [
    {
     "name": "stdout",
     "output_type": "stream",
     "text": [
      "Test Group Earning Mean: 2514.8907326506173,\n",
      "Control Group Earning Mean: 1908.568299802749\n"
     ]
    }
   ],
   "source": [
    "# HO: M1 = M2 -> İki grup arasında istatistiksel olarak anlamlı farklılık yoktur\n",
    "# H1: M1 != M2 -> ... vardır.\n",
    "\n",
    "print(f'Test Group Earning Mean: {test_group.Earning.mean()},\\nControl Group Earning Mean: {control_group.Earning.mean()}')"
   ]
  },
  {
   "cell_type": "markdown",
   "id": "bc65e094",
   "metadata": {
    "papermill": {
     "duration": 0.008312,
     "end_time": "2022-07-18T10:33:13.010121",
     "exception": false,
     "start_time": "2022-07-18T10:33:13.001809",
     "status": "completed"
    },
    "tags": []
   },
   "source": [
    "Test ve Kontrol Gruplarının kazançları arasında fark olduğunu rahatlıkla söyleyebiliriz. Ama bu farkın şans eseri mi olduğunu yoksa gerçekten bir anlamı mı olduğunu öğrenmemiz gerekiyor."
   ]
  },
  {
   "cell_type": "markdown",
   "id": "de01f7bd",
   "metadata": {
    "papermill": {
     "duration": 0.008376,
     "end_time": "2022-07-18T10:33:13.027297",
     "exception": false,
     "start_time": "2022-07-18T10:33:13.018921",
     "status": "completed"
    },
    "tags": []
   },
   "source": [
    "# Varsayımlar"
   ]
  },
  {
   "cell_type": "code",
   "execution_count": 9,
   "id": "2ee2f5da",
   "metadata": {
    "execution": {
     "iopub.execute_input": "2022-07-18T10:33:13.047217Z",
     "iopub.status.busy": "2022-07-18T10:33:13.046459Z",
     "iopub.status.idle": "2022-07-18T10:33:13.053611Z",
     "shell.execute_reply": "2022-07-18T10:33:13.052741Z"
    },
    "papermill": {
     "duration": 0.020575,
     "end_time": "2022-07-18T10:33:13.056846",
     "exception": false,
     "start_time": "2022-07-18T10:33:13.036271",
     "status": "completed"
    },
    "tags": []
   },
   "outputs": [
    {
     "name": "stdout",
     "output_type": "stream",
     "text": [
      "Test stat= 0.9589452147483826, pvalue 0.15413185954093933\n",
      "False\n",
      "Test stat= 0.9772694110870361, pvalue 0.5891125202178955\n",
      "False\n"
     ]
    }
   ],
   "source": [
    "# normallik varsayımı \n",
    "# verimizin normal dağılıma sahip olduğuna dair bir varsayımda bulunalım\n",
    "\n",
    "test_stat, pvalue = shapiro(test_group.Purchase)\n",
    "print(f'Test stat= {test_stat}, pvalue {pvalue}')\n",
    "print(pvalue < 0.05)\n",
    "\n",
    "test_stat, pvalue = shapiro(control_group.Purchase)\n",
    "print(f'Test stat= {test_stat}, pvalue {pvalue}')\n",
    "print(pvalue < 0.05)"
   ]
  },
  {
   "cell_type": "markdown",
   "id": "484be19e",
   "metadata": {
    "papermill": {
     "duration": 0.00858,
     "end_time": "2022-07-18T10:33:13.074764",
     "exception": false,
     "start_time": "2022-07-18T10:33:13.066184",
     "status": "completed"
    },
    "tags": []
   },
   "source": [
    "p değeri 0,05'ten büyük olduğundan hipotezimizi reddedemeyiz. Her iki veri de normal dağılıma sahiptir."
   ]
  },
  {
   "cell_type": "code",
   "execution_count": 10,
   "id": "92279f50",
   "metadata": {
    "execution": {
     "iopub.execute_input": "2022-07-18T10:33:13.094562Z",
     "iopub.status.busy": "2022-07-18T10:33:13.093940Z",
     "iopub.status.idle": "2022-07-18T10:33:13.101191Z",
     "shell.execute_reply": "2022-07-18T10:33:13.099830Z"
    },
    "papermill": {
     "duration": 0.020116,
     "end_time": "2022-07-18T10:33:13.103681",
     "exception": false,
     "start_time": "2022-07-18T10:33:13.083565",
     "status": "completed"
    },
    "tags": []
   },
   "outputs": [
    {
     "name": "stdout",
     "output_type": "stream",
     "text": [
      "Test stat= 2.6392694728747363, pvalue 0.10828588271874791\n",
      "False\n"
     ]
    }
   ],
   "source": [
    "# varyans homojenliği varsayımı\n",
    "# verilerimizin varyans homojenleğine sahip olduğu varsayımında bulunalım\n",
    "\n",
    "test_stat, pvalue = levene(test_group.Purchase,\n",
    "                          control_group.Purchase)\n",
    "\n",
    "print(f'Test stat= {test_stat}, pvalue {pvalue}')\n",
    "print(pvalue < 0.05)"
   ]
  },
  {
   "cell_type": "markdown",
   "id": "988d3fe3",
   "metadata": {
    "papermill": {
     "duration": 0.009243,
     "end_time": "2022-07-18T10:33:13.121980",
     "exception": false,
     "start_time": "2022-07-18T10:33:13.112737",
     "status": "completed"
    },
    "tags": []
   },
   "source": [
    "p değeri 0,05'ten büyük olduğundan hipotezimizi reddedemeyiz. Veriler varyans homojenliğine sahiptir."
   ]
  },
  {
   "cell_type": "markdown",
   "id": "de1f80ab",
   "metadata": {
    "papermill": {
     "duration": 0.008741,
     "end_time": "2022-07-18T10:33:13.139917",
     "exception": false,
     "start_time": "2022-07-18T10:33:13.131176",
     "status": "completed"
    },
    "tags": []
   },
   "source": [
    "# AB Testi"
   ]
  },
  {
   "cell_type": "markdown",
   "id": "8bba0f8b",
   "metadata": {
    "papermill": {
     "duration": 0.009254,
     "end_time": "2022-07-18T10:33:13.158549",
     "exception": false,
     "start_time": "2022-07-18T10:33:13.149295",
     "status": "completed"
    },
    "tags": []
   },
   "source": [
    "### Yaptığımız testler iki varsayımımızı da doğruladı.\n",
    "### Bu durumda AB Testimizi t-test ile gerçekleştiriyoruz"
   ]
  },
  {
   "cell_type": "code",
   "execution_count": 11,
   "id": "3a9bdaf7",
   "metadata": {
    "execution": {
     "iopub.execute_input": "2022-07-18T10:33:13.182166Z",
     "iopub.status.busy": "2022-07-18T10:33:13.181761Z",
     "iopub.status.idle": "2022-07-18T10:33:13.189266Z",
     "shell.execute_reply": "2022-07-18T10:33:13.187817Z"
    },
    "papermill": {
     "duration": 0.023181,
     "end_time": "2022-07-18T10:33:13.192287",
     "exception": false,
     "start_time": "2022-07-18T10:33:13.169106",
     "status": "completed"
    },
    "tags": []
   },
   "outputs": [
    {
     "name": "stdout",
     "output_type": "stream",
     "text": [
      "Test stat= 0.9415584300312964, pvalue 0.34932579202108416\n",
      "False\n"
     ]
    }
   ],
   "source": [
    "test_stat, pvalue = ttest_ind(test_group.Purchase,\n",
    "                          control_group.Purchase)\n",
    "\n",
    "print(f'Test stat= {test_stat}, pvalue {pvalue}')\n",
    "print(pvalue < 0.05)"
   ]
  },
  {
   "cell_type": "markdown",
   "id": "c7d47e7f",
   "metadata": {
    "papermill": {
     "duration": 0.008531,
     "end_time": "2022-07-18T10:33:13.209824",
     "exception": false,
     "start_time": "2022-07-18T10:33:13.201293",
     "status": "completed"
    },
    "tags": []
   },
   "source": [
    "p değeri 0,05'ten düşük değilse hipotezimizi reddedemeyiz. Bu, iki grubun satın alımları arasında anlamlı bir fark olmadığı anlamına gelir. Böylece test ettiğimiz yeni özelliğin satışları GERÇEKTEN iyi bir yönde etkilemediğini söyleyebiliriz. Elde ettiğimiz sonuçlar doğrultusunda test ettiğimiz özelliğin hayata geçirilmesine şuanlık ihtiyaç yoktur."
   ]
  }
 ],
 "metadata": {
  "kernelspec": {
   "display_name": "Python 3",
   "language": "python",
   "name": "python3"
  },
  "language_info": {
   "codemirror_mode": {
    "name": "ipython",
    "version": 3
   },
   "file_extension": ".py",
   "mimetype": "text/x-python",
   "name": "python",
   "nbconvert_exporter": "python",
   "pygments_lexer": "ipython3",
   "version": "3.7.12"
  },
  "papermill": {
   "default_parameters": {},
   "duration": 30.022552,
   "end_time": "2022-07-18T10:33:14.043407",
   "environment_variables": {},
   "exception": null,
   "input_path": "__notebook__.ipynb",
   "output_path": "__notebook__.ipynb",
   "parameters": {},
   "start_time": "2022-07-18T10:32:44.020855",
   "version": "2.3.4"
  }
 },
 "nbformat": 4,
 "nbformat_minor": 5
}
